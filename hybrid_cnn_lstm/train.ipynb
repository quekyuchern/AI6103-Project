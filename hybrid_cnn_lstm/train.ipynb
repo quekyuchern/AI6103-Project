{
 "metadata": {
  "kernelspec": {
   "display_name": "Python 3",
   "language": "python",
   "name": "python3"
  },
  "language_info": {
   "name": "python",
   "version": "3.10.14",
   "mimetype": "text/x-python",
   "codemirror_mode": {
    "name": "ipython",
    "version": 3
   },
   "pygments_lexer": "ipython3",
   "nbconvert_exporter": "python",
   "file_extension": ".py"
  },
  "kaggle": {
   "accelerator": "nvidiaTeslaT4",
   "dataSources": [],
   "dockerImageVersionId": 30787,
   "isInternetEnabled": true,
   "language": "python",
   "sourceType": "notebook",
   "isGpuEnabled": true
  }
 },
 "nbformat_minor": 5,
 "nbformat": 4,
 "cells": [
  {
   "cell_type": "code",
   "source": [
    "\n",
    "\n",
    "import pandas as pd\n",
    "import numpy as np\n",
    "import re\n",
    "\n",
    "from nltk.tokenize import word_tokenize\n",
    "from nltk.corpus import stopwords\n",
    "from nltk.stem import PorterStemmer\n",
    "\n",
    "from sklearn.datasets import fetch_20newsgroups\n",
    "from sklearn.feature_extraction.text import TfidfVectorizer\n",
    "from sklearn.model_selection import train_test_split\n",
    "from sklearn.metrics import accuracy_score, precision_recall_fscore_support\n",
    "from sklearn.metrics import classification_report\n",
    "\n",
    "import torch\n",
    "from torch.utils.data import Dataset, DataLoader\n",
    "\n",
    "\n",
    "# Check and list all CUDA devices\n",
    "if torch.cuda.is_available():\n",
    "    num_devices = torch.cuda.device_count()\n",
    "    print(f\"CUDA is available. Number of GPUs: {num_devices}\")\n",
    "    for i in range(num_devices):\n",
    "        print(f\"Device {i}: {torch.cuda.get_device_name(i)}\")\n",
    "else:\n",
    "    print(\"CUDA is not available. GPU is not enabled.\")\n",
    "\n",
    "\n",
    "# Load the dataset\n",
    "newsgroups = fetch_20newsgroups(subset='all', remove=('headers', 'footers', 'quotes'))\n",
    "df = pd.DataFrame({\n",
    "    'Text': newsgroups.data,\n",
    "    'Category': newsgroups.target\n",
    "})\n",
    "df['Category Name'] = df['Category'].apply(lambda x: newsgroups.target_names[x])\n",
    "\n",
    "\n"
   ],
   "metadata": {
    "execution": {
     "iopub.status.busy": "2024-11-03T23:33:14.768312Z",
     "iopub.execute_input": "2024-11-03T23:33:14.769134Z",
     "iopub.status.idle": "2024-11-03T23:33:14.775090Z",
     "shell.execute_reply.started": "2024-11-03T23:33:14.769090Z",
     "shell.execute_reply": "2024-11-03T23:33:14.774130Z"
    },
    "trusted": true,
    "ExecuteTime": {
     "end_time": "2024-11-04T13:12:02.946880Z",
     "start_time": "2024-11-04T13:11:53.206919Z"
    }
   },
   "execution_count": 1,
   "outputs": [
    {
     "name": "stdout",
     "text": "CUDA is available. Number of GPUs: 2\nDevice 0: Tesla T4\nDevice 1: Tesla T4\n",
     "output_type": "stream"
    }
   ],
   "id": "1c8d83560cdf41b4"
  }
 ]
}
