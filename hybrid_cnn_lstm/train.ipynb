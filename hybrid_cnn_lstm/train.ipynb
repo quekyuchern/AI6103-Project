{
 "metadata": {
  "kernelspec": {
   "display_name": "Python 3",
   "language": "python",
   "name": "python3"
  },
  "language_info": {
   "name": "python",
   "version": "3.10.14",
   "mimetype": "text/x-python",
   "codemirror_mode": {
    "name": "ipython",
    "version": 3
   },
   "pygments_lexer": "ipython3",
   "nbconvert_exporter": "python",
   "file_extension": ".py"
  },
  "kaggle": {
   "accelerator": "nvidiaTeslaT4",
   "dataSources": [],
   "dockerImageVersionId": 30787,
   "isInternetEnabled": true,
   "language": "python",
   "sourceType": "notebook",
   "isGpuEnabled": true
  }
 },
 "nbformat_minor": 5,
 "nbformat": 4,
 "cells": [
  {
   "cell_type": "code",
   "source": [
    "import time\n",
    "import pandas as pd\n",
    "import re\n",
    "import nltk\n",
    "from nltk.tokenize import word_tokenize\n",
    "from nltk.corpus import stopwords\n",
    "from nltk.stem import PorterStemmer\n",
    "from sklearn.datasets import fetch_20newsgroups\n",
    "import torch\n",
    "\n",
    "# Automatically download missing NLTK resources\n",
    "nltk.download('punkt')\n",
    "nltk.download('stopwords')\n",
    "\n",
    "# Custom print functions\n",
    "def print_timer_info(message):\n",
    "    print(f\"[TIMER INFO] {message}\")\n",
    "\n",
    "def print_output_data(message):\n",
    "    print(f\"[OUTPUT DATA] {message}\")\n",
    "\n",
    "# Check CUDA availability and set device\n",
    "device = torch.device('cuda' if torch.cuda.is_available() else 'cpu')\n",
    "print_timer_info(\"Checking CUDA availability...\")\n",
    "if device.type == 'cuda':\n",
    "    num_devices = torch.cuda.device_count()\n",
    "    print_output_data(f\"CUDA is available. Number of GPUs: {num_devices}\")\n",
    "    for i in range(num_devices):\n",
    "        print_output_data(f\"Device {i}: {torch.cuda.get_device_name(i)}\")\n",
    "else:\n",
    "    print_output_data(\"CUDA is not available. Using CPU.\")\n",
    "print_timer_info(f\"CUDA check completed. Using device: {device}\")\n",
    "\n",
    "# Load the dataset\n",
    "start_time = time.time()\n",
    "print_timer_info(\"Loading the 20 Newsgroups dataset...\")\n",
    "newsgroups = fetch_20newsgroups(subset='all', remove=('headers', 'footers', 'quotes'))\n",
    "df = pd.DataFrame({'Text': newsgroups.data, 'Category': newsgroups.target})\n",
    "df['Category Name'] = df['Category'].apply(lambda x: newsgroups.target_names[x])\n",
    "print_timer_info(f\"Time taken to load dataset: {time.time() - start_time:.2f} seconds\")\n",
    "\n",
    "# Pre-processing\n",
    "print_timer_info(\"Starting pre-processing...\")\n",
    "preprocess_start_time = time.time()\n",
    "\n",
    "df['Text'] = df['Text'].str.lower()  # Lowercasing\n",
    "df['Text'] = df['Text'].apply(lambda x: re.sub(r'[^a-zA-Z\\s]', '', x))  # Remove punctuation/special characters\n",
    "df['Tokens'] = df['Text'].apply(word_tokenize)  # Tokenization\n",
    "\n",
    "stop_words = set(stopwords.words('english'))\n",
    "df['Tokens'] = df['Tokens'].apply(lambda tokens: [word for word in tokens if word not in stop_words])  # Stopwords removal\n",
    "\n",
    "stemmer = PorterStemmer()\n",
    "df['Tokens'] = df['Tokens'].apply(lambda tokens: [stemmer.stem(token) for token in tokens])  # Stemming\n",
    "\n",
    "print_timer_info(f\"Total time for pre-processing: {time.time() - preprocess_start_time:.2f} seconds\")\n",
    "\n",
    "# Move processed data to GPU if available (Example - converting text data to tensor)\n",
    "max_token_length = max(df['Tokens'].apply(len))\n",
    "print_output_data(f\"Maximum length of tokenized text: {max_token_length}\")\n"
   ],
   "metadata": {
    "trusted": true,
    "ExecuteTime": {
     "end_time": "2024-11-04T14:46:37.187204Z",
     "start_time": "2024-11-04T14:46:07.103185Z"
    }
   },
   "id": "9d2d90f990250997",
   "outputs": [
    {
     "name": "stderr",
     "output_type": "stream",
     "text": [
      "[nltk_data] Downloading package punkt to\n",
      "[nltk_data]     C:\\Users\\shalo\\AppData\\Roaming\\nltk_data...\n",
      "[nltk_data]   Package punkt is already up-to-date!\n",
      "[nltk_data] Downloading package stopwords to\n",
      "[nltk_data]     C:\\Users\\shalo\\AppData\\Roaming\\nltk_data...\n",
      "[nltk_data]   Package stopwords is already up-to-date!\n"
     ]
    },
    {
     "name": "stdout",
     "output_type": "stream",
     "text": [
      "[TIMER INFO] Checking CUDA availability...\n",
      "[OUTPUT DATA] CUDA is available. Number of GPUs: 1\n",
      "[OUTPUT DATA] Device 0: NVIDIA GeForce RTX 2060\n",
      "[TIMER INFO] CUDA check completed. Using device: cuda\n",
      "[TIMER INFO] Loading the 20 Newsgroups dataset...\n",
      "[TIMER INFO] Time taken to load dataset: 1.72 seconds\n",
      "[TIMER INFO] Starting pre-processing...\n",
      "[TIMER INFO] Total time for pre-processing: 28.34 seconds\n",
      "[OUTPUT DATA] Maximum length of tokenized text: 6620\n"
     ]
    }
   ],
   "execution_count": 12
  }
 ]
}
