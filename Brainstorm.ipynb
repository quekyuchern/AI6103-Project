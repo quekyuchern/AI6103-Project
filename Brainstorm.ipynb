{
 "cells": [
  {
   "cell_type": "markdown",
   "id": "5bf63296",
   "metadata": {
    "papermill": {
     "duration": 0.006643,
     "end_time": "2024-10-29T03:13:44.921075",
     "exception": false,
     "start_time": "2024-10-29T03:13:44.914432",
     "status": "completed"
    },
    "tags": []
   },
   "source": [
    "# Load Packages"
   ]
  },
  {
   "cell_type": "code",
   "execution_count": 1,
   "id": "c272bdc5",
   "metadata": {
    "execution": {
     "iopub.execute_input": "2024-10-29T03:13:44.935696Z",
     "iopub.status.busy": "2024-10-29T03:13:44.935048Z",
     "iopub.status.idle": "2024-10-29T03:13:50.300812Z",
     "shell.execute_reply": "2024-10-29T03:13:50.298996Z"
    },
    "papermill": {
     "duration": 5.377231,
     "end_time": "2024-10-29T03:13:50.304352",
     "exception": false,
     "start_time": "2024-10-29T03:13:44.927121",
     "status": "completed"
    },
    "tags": []
   },
   "outputs": [
    {
     "name": "stdout",
     "output_type": "stream",
     "text": [
      "[nltk_data] Downloading package wordnet to /usr/share/nltk_data...\n",
      "[nltk_data]   Package wordnet is already up-to-date!\n",
      "Archive:  /usr/share/nltk_data/corpora/wordnet.zip\r\n",
      "   creating: /usr/share/nltk_data/corpora/wordnet/\r\n",
      "  inflating: /usr/share/nltk_data/corpora/wordnet/lexnames  \r\n",
      "  inflating: /usr/share/nltk_data/corpora/wordnet/data.verb  \r\n",
      "  inflating: /usr/share/nltk_data/corpora/wordnet/index.adv  \r\n",
      "  inflating: /usr/share/nltk_data/corpora/wordnet/adv.exc  \r\n",
      "  inflating: /usr/share/nltk_data/corpora/wordnet/index.verb  \r\n",
      "  inflating: /usr/share/nltk_data/corpora/wordnet/cntlist.rev  \r\n",
      "  inflating: /usr/share/nltk_data/corpora/wordnet/data.adj  \r\n",
      "  inflating: /usr/share/nltk_data/corpora/wordnet/index.adj  \r\n",
      "  inflating: /usr/share/nltk_data/corpora/wordnet/LICENSE  \r\n",
      "  inflating: /usr/share/nltk_data/corpora/wordnet/citation.bib  \r\n",
      "  inflating: /usr/share/nltk_data/corpora/wordnet/noun.exc  \r\n",
      "  inflating: /usr/share/nltk_data/corpora/wordnet/verb.exc  \r\n",
      "  inflating: /usr/share/nltk_data/corpora/wordnet/README  \r\n",
      "  inflating: /usr/share/nltk_data/corpora/wordnet/index.sense  \r\n",
      "  inflating: /usr/share/nltk_data/corpora/wordnet/data.noun  \r\n",
      "  inflating: /usr/share/nltk_data/corpora/wordnet/data.adv  \r\n",
      "  inflating: /usr/share/nltk_data/corpora/wordnet/index.noun  \r\n",
      "  inflating: /usr/share/nltk_data/corpora/wordnet/adj.exc  \r\n"
     ]
    }
   ],
   "source": [
    "import pandas as pd\n",
    "import re\n",
    "from nltk.tokenize import word_tokenize\n",
    "from nltk.corpus import stopwords\n",
    "from nltk.stem import WordNetLemmatizer\n",
    "from sklearn.datasets import fetch_20newsgroups\n",
    "import nltk\n",
    "nltk.download('wordnet')\n",
    "!unzip /usr/share/nltk_data/corpora/wordnet.zip -d /usr/share/nltk_data/corpora/"
   ]
  },
  {
   "cell_type": "markdown",
   "id": "95c17793",
   "metadata": {
    "papermill": {
     "duration": 0.006759,
     "end_time": "2024-10-29T03:13:50.319009",
     "exception": false,
     "start_time": "2024-10-29T03:13:50.312250",
     "status": "completed"
    },
    "tags": []
   },
   "source": [
    "# Load Data"
   ]
  },
  {
   "cell_type": "code",
   "execution_count": 2,
   "id": "e715cf0f",
   "metadata": {
    "_cell_guid": "b1076dfc-b9ad-4769-8c92-a6c4dae69d19",
    "_uuid": "8f2839f25d086af736a60e9eeb907d3b93b6e0e5",
    "execution": {
     "iopub.execute_input": "2024-10-29T03:13:50.336582Z",
     "iopub.status.busy": "2024-10-29T03:13:50.335483Z",
     "iopub.status.idle": "2024-10-29T03:14:06.093254Z",
     "shell.execute_reply": "2024-10-29T03:14:06.091934Z"
    },
    "papermill": {
     "duration": 15.770332,
     "end_time": "2024-10-29T03:14:06.096432",
     "exception": false,
     "start_time": "2024-10-29T03:13:50.326100",
     "status": "completed"
    },
    "tags": []
   },
   "outputs": [],
   "source": [
    "# Load the dataset\n",
    "newsgroups = fetch_20newsgroups(subset='all', remove=('headers', 'footers', 'quotes'))"
   ]
  },
  {
   "cell_type": "code",
   "execution_count": 3,
   "id": "a2932012",
   "metadata": {
    "execution": {
     "iopub.execute_input": "2024-10-29T03:14:06.113143Z",
     "iopub.status.busy": "2024-10-29T03:14:06.111825Z",
     "iopub.status.idle": "2024-10-29T03:14:06.179525Z",
     "shell.execute_reply": "2024-10-29T03:14:06.178344Z"
    },
    "papermill": {
     "duration": 0.078875,
     "end_time": "2024-10-29T03:14:06.182169",
     "exception": false,
     "start_time": "2024-10-29T03:14:06.103294",
     "status": "completed"
    },
    "tags": []
   },
   "outputs": [
    {
     "data": {
      "text/html": [
       "<div>\n",
       "<style scoped>\n",
       "    .dataframe tbody tr th:only-of-type {\n",
       "        vertical-align: middle;\n",
       "    }\n",
       "\n",
       "    .dataframe tbody tr th {\n",
       "        vertical-align: top;\n",
       "    }\n",
       "\n",
       "    .dataframe thead th {\n",
       "        text-align: right;\n",
       "    }\n",
       "</style>\n",
       "<table border=\"1\" class=\"dataframe\">\n",
       "  <thead>\n",
       "    <tr style=\"text-align: right;\">\n",
       "      <th></th>\n",
       "      <th>Text</th>\n",
       "      <th>Category</th>\n",
       "      <th>Category Name</th>\n",
       "    </tr>\n",
       "  </thead>\n",
       "  <tbody>\n",
       "    <tr>\n",
       "      <th>0</th>\n",
       "      <td>\\n\\nI am sure some bashers of Pens fans are pr...</td>\n",
       "      <td>10</td>\n",
       "      <td>rec.sport.hockey</td>\n",
       "    </tr>\n",
       "    <tr>\n",
       "      <th>1</th>\n",
       "      <td>My brother is in the market for a high-perform...</td>\n",
       "      <td>3</td>\n",
       "      <td>comp.sys.ibm.pc.hardware</td>\n",
       "    </tr>\n",
       "    <tr>\n",
       "      <th>2</th>\n",
       "      <td>\\n\\n\\n\\n\\tFinally you said what you dream abou...</td>\n",
       "      <td>17</td>\n",
       "      <td>talk.politics.mideast</td>\n",
       "    </tr>\n",
       "    <tr>\n",
       "      <th>3</th>\n",
       "      <td>\\nThink!\\n\\nIt's the SCSI card doing the DMA t...</td>\n",
       "      <td>3</td>\n",
       "      <td>comp.sys.ibm.pc.hardware</td>\n",
       "    </tr>\n",
       "    <tr>\n",
       "      <th>4</th>\n",
       "      <td>1)    I have an old Jasmine drive which I cann...</td>\n",
       "      <td>4</td>\n",
       "      <td>comp.sys.mac.hardware</td>\n",
       "    </tr>\n",
       "    <tr>\n",
       "      <th>...</th>\n",
       "      <td>...</td>\n",
       "      <td>...</td>\n",
       "      <td>...</td>\n",
       "    </tr>\n",
       "    <tr>\n",
       "      <th>18841</th>\n",
       "      <td>DN&gt; From: nyeda@cnsvax.uwec.edu (David Nye)\\nD...</td>\n",
       "      <td>13</td>\n",
       "      <td>sci.med</td>\n",
       "    </tr>\n",
       "    <tr>\n",
       "      <th>18842</th>\n",
       "      <td>\\nNot in isolated ground recepticles (usually ...</td>\n",
       "      <td>12</td>\n",
       "      <td>sci.electronics</td>\n",
       "    </tr>\n",
       "    <tr>\n",
       "      <th>18843</th>\n",
       "      <td>I just installed a DX2-66 CPU in a clone mothe...</td>\n",
       "      <td>3</td>\n",
       "      <td>comp.sys.ibm.pc.hardware</td>\n",
       "    </tr>\n",
       "    <tr>\n",
       "      <th>18844</th>\n",
       "      <td>\\nWouldn't this require a hyper-sphere.  In 3-...</td>\n",
       "      <td>1</td>\n",
       "      <td>comp.graphics</td>\n",
       "    </tr>\n",
       "    <tr>\n",
       "      <th>18845</th>\n",
       "      <td>After a tip from Gary Crum (crum@fcom.cc.utah....</td>\n",
       "      <td>7</td>\n",
       "      <td>rec.autos</td>\n",
       "    </tr>\n",
       "  </tbody>\n",
       "</table>\n",
       "<p>18846 rows × 3 columns</p>\n",
       "</div>"
      ],
      "text/plain": [
       "                                                    Text  Category  \\\n",
       "0      \\n\\nI am sure some bashers of Pens fans are pr...        10   \n",
       "1      My brother is in the market for a high-perform...         3   \n",
       "2      \\n\\n\\n\\n\\tFinally you said what you dream abou...        17   \n",
       "3      \\nThink!\\n\\nIt's the SCSI card doing the DMA t...         3   \n",
       "4      1)    I have an old Jasmine drive which I cann...         4   \n",
       "...                                                  ...       ...   \n",
       "18841  DN> From: nyeda@cnsvax.uwec.edu (David Nye)\\nD...        13   \n",
       "18842  \\nNot in isolated ground recepticles (usually ...        12   \n",
       "18843  I just installed a DX2-66 CPU in a clone mothe...         3   \n",
       "18844  \\nWouldn't this require a hyper-sphere.  In 3-...         1   \n",
       "18845  After a tip from Gary Crum (crum@fcom.cc.utah....         7   \n",
       "\n",
       "                  Category Name  \n",
       "0              rec.sport.hockey  \n",
       "1      comp.sys.ibm.pc.hardware  \n",
       "2         talk.politics.mideast  \n",
       "3      comp.sys.ibm.pc.hardware  \n",
       "4         comp.sys.mac.hardware  \n",
       "...                         ...  \n",
       "18841                   sci.med  \n",
       "18842           sci.electronics  \n",
       "18843  comp.sys.ibm.pc.hardware  \n",
       "18844             comp.graphics  \n",
       "18845                 rec.autos  \n",
       "\n",
       "[18846 rows x 3 columns]"
      ]
     },
     "execution_count": 3,
     "metadata": {},
     "output_type": "execute_result"
    }
   ],
   "source": [
    "df = pd.DataFrame({\n",
    "    'Text': newsgroups.data,\n",
    "    'Category': newsgroups.target\n",
    "})\n",
    "df['Category Name'] = df['Category'].apply(lambda x: newsgroups.target_names[x])\n",
    "df"
   ]
  },
  {
   "cell_type": "markdown",
   "id": "997af06e",
   "metadata": {
    "execution": {
     "iopub.execute_input": "2024-09-27T05:51:55.488836Z",
     "iopub.status.busy": "2024-09-27T05:51:55.488330Z",
     "iopub.status.idle": "2024-09-27T05:51:55.494293Z",
     "shell.execute_reply": "2024-09-27T05:51:55.492920Z",
     "shell.execute_reply.started": "2024-09-27T05:51:55.488794Z"
    },
    "papermill": {
     "duration": 0.006826,
     "end_time": "2024-10-29T03:14:06.196885",
     "exception": false,
     "start_time": "2024-10-29T03:14:06.190059",
     "status": "completed"
    },
    "tags": []
   },
   "source": [
    "# Preprocessing"
   ]
  },
  {
   "cell_type": "code",
   "execution_count": 4,
   "id": "1bd45879",
   "metadata": {
    "execution": {
     "iopub.execute_input": "2024-10-29T03:14:06.212532Z",
     "iopub.status.busy": "2024-10-29T03:14:06.212041Z",
     "iopub.status.idle": "2024-10-29T03:14:55.897612Z",
     "shell.execute_reply": "2024-10-29T03:14:55.896284Z"
    },
    "papermill": {
     "duration": 49.697572,
     "end_time": "2024-10-29T03:14:55.901327",
     "exception": false,
     "start_time": "2024-10-29T03:14:06.203755",
     "status": "completed"
    },
    "tags": []
   },
   "outputs": [],
   "source": [
    "# Lowercasing\n",
    "df['Text'] = df['Text'].str.lower()\n",
    "\n",
    "# Remove Punctuation and special characters\n",
    "df['Text'] = df['Text'].apply(lambda x: re.sub(r'[^a-zA-Z\\s]', '', x))\n",
    "\n",
    "# Tokenization\n",
    "df['Tokens'] = df['Text'].apply(word_tokenize)\n",
    "\n",
    "# Removing Stopwords\n",
    "stop_words = set(stopwords.words('english'))\n",
    "df['Tokens'] = df['Tokens'].apply(lambda tokens: [word for word in tokens if word not in stop_words])\n",
    "\n",
    "# Lemmatization\n",
    "lemmatizer = WordNetLemmatizer()\n",
    "df['Tokens'] = df['Tokens'].apply(lambda tokens: [lemmatizer.lemmatize(token) for token in tokens])"
   ]
  },
  {
   "cell_type": "code",
   "execution_count": 5,
   "id": "75d99b86",
   "metadata": {
    "execution": {
     "iopub.execute_input": "2024-10-29T03:14:55.919695Z",
     "iopub.status.busy": "2024-10-29T03:14:55.919071Z",
     "iopub.status.idle": "2024-10-29T03:14:55.950513Z",
     "shell.execute_reply": "2024-10-29T03:14:55.949149Z"
    },
    "papermill": {
     "duration": 0.045055,
     "end_time": "2024-10-29T03:14:55.953891",
     "exception": false,
     "start_time": "2024-10-29T03:14:55.908836",
     "status": "completed"
    },
    "tags": []
   },
   "outputs": [
    {
     "data": {
      "text/html": [
       "<div>\n",
       "<style scoped>\n",
       "    .dataframe tbody tr th:only-of-type {\n",
       "        vertical-align: middle;\n",
       "    }\n",
       "\n",
       "    .dataframe tbody tr th {\n",
       "        vertical-align: top;\n",
       "    }\n",
       "\n",
       "    .dataframe thead th {\n",
       "        text-align: right;\n",
       "    }\n",
       "</style>\n",
       "<table border=\"1\" class=\"dataframe\">\n",
       "  <thead>\n",
       "    <tr style=\"text-align: right;\">\n",
       "      <th></th>\n",
       "      <th>Text</th>\n",
       "      <th>Category</th>\n",
       "      <th>Category Name</th>\n",
       "      <th>Tokens</th>\n",
       "    </tr>\n",
       "  </thead>\n",
       "  <tbody>\n",
       "    <tr>\n",
       "      <th>0</th>\n",
       "      <td>\\n\\ni am sure some bashers of pens fans are pr...</td>\n",
       "      <td>10</td>\n",
       "      <td>rec.sport.hockey</td>\n",
       "      <td>[sure, bashers, pen, fan, pretty, confused, la...</td>\n",
       "    </tr>\n",
       "    <tr>\n",
       "      <th>1</th>\n",
       "      <td>my brother is in the market for a highperforma...</td>\n",
       "      <td>3</td>\n",
       "      <td>comp.sys.ibm.pc.hardware</td>\n",
       "      <td>[brother, market, highperformance, video, card...</td>\n",
       "    </tr>\n",
       "    <tr>\n",
       "      <th>2</th>\n",
       "      <td>\\n\\n\\n\\n\\tfinally you said what you dream abou...</td>\n",
       "      <td>17</td>\n",
       "      <td>talk.politics.mideast</td>\n",
       "      <td>[finally, said, dream, mediterranean, new, are...</td>\n",
       "    </tr>\n",
       "    <tr>\n",
       "      <th>3</th>\n",
       "      <td>\\nthink\\n\\nits the scsi card doing the dma tra...</td>\n",
       "      <td>3</td>\n",
       "      <td>comp.sys.ibm.pc.hardware</td>\n",
       "      <td>[think, scsi, card, dma, transfer, disk, scsi,...</td>\n",
       "    </tr>\n",
       "    <tr>\n",
       "      <th>4</th>\n",
       "      <td>i have an old jasmine drive which i cannot...</td>\n",
       "      <td>4</td>\n",
       "      <td>comp.sys.mac.hardware</td>\n",
       "      <td>[old, jasmine, drive, use, new, system, unders...</td>\n",
       "    </tr>\n",
       "    <tr>\n",
       "      <th>...</th>\n",
       "      <td>...</td>\n",
       "      <td>...</td>\n",
       "      <td>...</td>\n",
       "      <td>...</td>\n",
       "    </tr>\n",
       "    <tr>\n",
       "      <th>18841</th>\n",
       "      <td>dn from nyedacnsvaxuwecedu david nye\\ndn a neu...</td>\n",
       "      <td>13</td>\n",
       "      <td>sci.med</td>\n",
       "      <td>[dn, nyedacnsvaxuwecedu, david, nye, dn, neuro...</td>\n",
       "    </tr>\n",
       "    <tr>\n",
       "      <th>18842</th>\n",
       "      <td>\\nnot in isolated ground recepticles usually a...</td>\n",
       "      <td>12</td>\n",
       "      <td>sci.electronics</td>\n",
       "      <td>[isolated, ground, recepticles, usually, unusu...</td>\n",
       "    </tr>\n",
       "    <tr>\n",
       "      <th>18843</th>\n",
       "      <td>i just installed a dx cpu in a clone motherboa...</td>\n",
       "      <td>3</td>\n",
       "      <td>comp.sys.ibm.pc.hardware</td>\n",
       "      <td>[installed, dx, cpu, clone, motherboard, tried...</td>\n",
       "    </tr>\n",
       "    <tr>\n",
       "      <th>18844</th>\n",
       "      <td>\\nwouldnt this require a hypersphere  in space...</td>\n",
       "      <td>1</td>\n",
       "      <td>comp.graphics</td>\n",
       "      <td>[wouldnt, require, hypersphere, space, point, ...</td>\n",
       "    </tr>\n",
       "    <tr>\n",
       "      <th>18845</th>\n",
       "      <td>after a tip from gary crum crumfcomccutahedu i...</td>\n",
       "      <td>7</td>\n",
       "      <td>rec.autos</td>\n",
       "      <td>[tip, gary, crum, crumfcomccutahedu, got, phon...</td>\n",
       "    </tr>\n",
       "  </tbody>\n",
       "</table>\n",
       "<p>18846 rows × 4 columns</p>\n",
       "</div>"
      ],
      "text/plain": [
       "                                                    Text  Category  \\\n",
       "0      \\n\\ni am sure some bashers of pens fans are pr...        10   \n",
       "1      my brother is in the market for a highperforma...         3   \n",
       "2      \\n\\n\\n\\n\\tfinally you said what you dream abou...        17   \n",
       "3      \\nthink\\n\\nits the scsi card doing the dma tra...         3   \n",
       "4          i have an old jasmine drive which i cannot...         4   \n",
       "...                                                  ...       ...   \n",
       "18841  dn from nyedacnsvaxuwecedu david nye\\ndn a neu...        13   \n",
       "18842  \\nnot in isolated ground recepticles usually a...        12   \n",
       "18843  i just installed a dx cpu in a clone motherboa...         3   \n",
       "18844  \\nwouldnt this require a hypersphere  in space...         1   \n",
       "18845  after a tip from gary crum crumfcomccutahedu i...         7   \n",
       "\n",
       "                  Category Name  \\\n",
       "0              rec.sport.hockey   \n",
       "1      comp.sys.ibm.pc.hardware   \n",
       "2         talk.politics.mideast   \n",
       "3      comp.sys.ibm.pc.hardware   \n",
       "4         comp.sys.mac.hardware   \n",
       "...                         ...   \n",
       "18841                   sci.med   \n",
       "18842           sci.electronics   \n",
       "18843  comp.sys.ibm.pc.hardware   \n",
       "18844             comp.graphics   \n",
       "18845                 rec.autos   \n",
       "\n",
       "                                                  Tokens  \n",
       "0      [sure, bashers, pen, fan, pretty, confused, la...  \n",
       "1      [brother, market, highperformance, video, card...  \n",
       "2      [finally, said, dream, mediterranean, new, are...  \n",
       "3      [think, scsi, card, dma, transfer, disk, scsi,...  \n",
       "4      [old, jasmine, drive, use, new, system, unders...  \n",
       "...                                                  ...  \n",
       "18841  [dn, nyedacnsvaxuwecedu, david, nye, dn, neuro...  \n",
       "18842  [isolated, ground, recepticles, usually, unusu...  \n",
       "18843  [installed, dx, cpu, clone, motherboard, tried...  \n",
       "18844  [wouldnt, require, hypersphere, space, point, ...  \n",
       "18845  [tip, gary, crum, crumfcomccutahedu, got, phon...  \n",
       "\n",
       "[18846 rows x 4 columns]"
      ]
     },
     "execution_count": 5,
     "metadata": {},
     "output_type": "execute_result"
    }
   ],
   "source": [
    "df"
   ]
  },
  {
   "cell_type": "markdown",
   "id": "591be3e5",
   "metadata": {
    "papermill": {
     "duration": 0.008815,
     "end_time": "2024-10-29T03:14:55.973192",
     "exception": false,
     "start_time": "2024-10-29T03:14:55.964377",
     "status": "completed"
    },
    "tags": []
   },
   "source": [
    "# Effect of embeddings on the model performance"
   ]
  },
  {
   "cell_type": "markdown",
   "id": "19ae1486",
   "metadata": {
    "papermill": {
     "duration": 0.006848,
     "end_time": "2024-10-29T03:14:55.988440",
     "exception": false,
     "start_time": "2024-10-29T03:14:55.981592",
     "status": "completed"
    },
    "tags": []
   },
   "source": [
    "**Examine how different embeddings trained on specialised domain affect model performance.**\n",
    "\n",
    "With a tf-idf baseline, campare the performance of various embedding models:\n",
    "1. GloVe (General)\n",
    "2. FastText (Wiki, web crawl, news)\n",
    "3. Google News Word2Vec (Google News dataset)\n",
    "4. BERT (Contextual Embeddings)"
   ]
  },
  {
   "cell_type": "markdown",
   "id": "35be3d15",
   "metadata": {
    "papermill": {
     "duration": 0.007093,
     "end_time": "2024-10-29T03:14:56.002774",
     "exception": false,
     "start_time": "2024-10-29T03:14:55.995681",
     "status": "completed"
    },
    "tags": []
   },
   "source": [
    "# LSTM vs CNN for Text Classification (+EDA of data) [Anushka]"
   ]
  },
  {
   "cell_type": "markdown",
   "id": "57d91160",
   "metadata": {
    "papermill": {
     "duration": 0.007163,
     "end_time": "2024-10-29T03:14:56.017981",
     "exception": false,
     "start_time": "2024-10-29T03:14:56.010818",
     "status": "completed"
    },
    "tags": []
   },
   "source": [
    "**Compare the performances of LSTM vs CNN. LSTM capture long-range dependencies, may out perform CNN. CNNs could be more efficient if the corpus is shorter.**\n",
    "\n",
    "Look at distribution of classes, text length, word cloud."
   ]
  },
  {
   "cell_type": "markdown",
   "id": "4722033b",
   "metadata": {
    "papermill": {
     "duration": 0.008323,
     "end_time": "2024-10-29T03:14:56.033625",
     "exception": false,
     "start_time": "2024-10-29T03:14:56.025302",
     "status": "completed"
    },
    "tags": []
   },
   "source": [
    "# Bidirectional LSTM vs Unidirectional LSTM [Vivien]"
   ]
  },
  {
   "cell_type": "markdown",
   "id": "444b51d7",
   "metadata": {
    "papermill": {
     "duration": 0.007209,
     "end_time": "2024-10-29T03:14:56.049594",
     "exception": false,
     "start_time": "2024-10-29T03:14:56.042385",
     "status": "completed"
    },
    "tags": []
   },
   "source": [
    "**Bidirectional LSTMs provide better context understanding and perform better than unidirectional LSTMs**"
   ]
  },
  {
   "cell_type": "markdown",
   "id": "1ce9787c",
   "metadata": {
    "papermill": {
     "duration": 0.007045,
     "end_time": "2024-10-29T03:14:56.063986",
     "exception": false,
     "start_time": "2024-10-29T03:14:56.056941",
     "status": "completed"
    },
    "tags": []
   },
   "source": [
    "# Examine the effect of Dropout Rate/Regularization/Batch Norm/Data Augmentation(back translation, random word insertion/deletion) on Model Generalization [Breandon]"
   ]
  },
  {
   "cell_type": "markdown",
   "id": "18dcf756",
   "metadata": {
    "papermill": {
     "duration": 0.006977,
     "end_time": "2024-10-29T03:14:56.078473",
     "exception": false,
     "start_time": "2024-10-29T03:14:56.071496",
     "status": "completed"
    },
    "tags": []
   },
   "source": [
    "**Train models with varying dropout rates and with and without regularization observe how the model performance is affected on test set. Dropout is typically used to prevent overfitting.**"
   ]
  },
  {
   "cell_type": "markdown",
   "id": "dc8960a1",
   "metadata": {
    "papermill": {
     "duration": 0.008171,
     "end_time": "2024-10-29T03:14:56.093982",
     "exception": false,
     "start_time": "2024-10-29T03:14:56.085811",
     "status": "completed"
    },
    "tags": []
   },
   "source": [
    "# Compare effectivness of combining CNN and LSTM Architectures [Leon]"
   ]
  },
  {
   "cell_type": "markdown",
   "id": "574999c5",
   "metadata": {
    "papermill": {
     "duration": 0.007114,
     "end_time": "2024-10-29T03:14:56.109031",
     "exception": false,
     "start_time": "2024-10-29T03:14:56.101917",
     "status": "completed"
    },
    "tags": []
   },
   "source": [
    "**Hybrid CNN-LSTM architecture may outperform individual CNN/LSTM models**"
   ]
  },
  {
   "cell_type": "markdown",
   "id": "7f5dab4b",
   "metadata": {
    "papermill": {
     "duration": 0.007005,
     "end_time": "2024-10-29T03:14:56.123387",
     "exception": false,
     "start_time": "2024-10-29T03:14:56.116382",
     "status": "completed"
    },
    "tags": []
   },
   "source": [
    "# Effect of Attention Mechanism on Model Performance [YC]"
   ]
  },
  {
   "cell_type": "markdown",
   "id": "d6bf6a68",
   "metadata": {
    "papermill": {
     "duration": 0.007552,
     "end_time": "2024-10-29T03:14:56.138410",
     "exception": false,
     "start_time": "2024-10-29T03:14:56.130858",
     "status": "completed"
    },
    "tags": []
   },
   "source": [
    "**Attention model might improve model performance espeically for longer sequences, by helping the model focus on important parts of the corpus.**"
   ]
  }
 ],
 "metadata": {
  "kaggle": {
   "accelerator": "none",
   "dataSources": [
    {
     "datasetId": 1740,
     "sourceId": 3025,
     "sourceType": "datasetVersion"
    }
   ],
   "dockerImageVersionId": 30775,
   "isGpuEnabled": false,
   "isInternetEnabled": true,
   "language": "python",
   "sourceType": "notebook"
  },
  "kernelspec": {
   "display_name": "Python 3",
   "language": "python",
   "name": "python3"
  },
  "language_info": {
   "codemirror_mode": {
    "name": "ipython",
    "version": 3
   },
   "file_extension": ".py",
   "mimetype": "text/x-python",
   "name": "python",
   "nbconvert_exporter": "python",
   "pygments_lexer": "ipython3",
   "version": "3.10.14"
  },
  "papermill": {
   "default_parameters": {},
   "duration": 75.966082,
   "end_time": "2024-10-29T03:14:57.572221",
   "environment_variables": {},
   "exception": null,
   "input_path": "__notebook__.ipynb",
   "output_path": "__notebook__.ipynb",
   "parameters": {},
   "start_time": "2024-10-29T03:13:41.606139",
   "version": "2.6.0"
  }
 },
 "nbformat": 4,
 "nbformat_minor": 5
}
